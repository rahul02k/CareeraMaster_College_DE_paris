{
 "cells": [
  {
   "cell_type": "markdown",
   "id": "65b86229",
   "metadata": {},
   "source": [
    "## I want to get average marks of this batch"
   ]
  },
  {
   "cell_type": "markdown",
   "id": "ebe2cdcb",
   "metadata": {},
   "source": [
    "#### Method 1 Hard Way"
   ]
  },
  {
   "cell_type": "code",
   "execution_count": 2,
   "id": "3afbacaa",
   "metadata": {},
   "outputs": [],
   "source": [
    "marks = [81,83,67,54,78]\n"
   ]
  },
  {
   "cell_type": "code",
   "execution_count": 4,
   "id": "15b4257f",
   "metadata": {},
   "outputs": [
    {
     "name": "stdout",
     "output_type": "stream",
     "text": [
      "Number of students in batch : 5\n"
     ]
    }
   ],
   "source": [
    "num_of_students = len(marks)\n",
    "print(\"Number of students in batch :\",num_of_students)"
   ]
  },
  {
   "cell_type": "code",
   "execution_count": 5,
   "id": "50b8c0bf",
   "metadata": {},
   "outputs": [
    {
     "name": "stdout",
     "output_type": "stream",
     "text": [
      "total marks: 363\n"
     ]
    }
   ],
   "source": [
    "sum_of_marks = marks[0]+marks[1]+marks[2]+marks[3]+marks[4]\n",
    "print(\"total marks:\",sum_of_marks)"
   ]
  },
  {
   "cell_type": "code",
   "execution_count": 6,
   "id": "aca2d00f",
   "metadata": {},
   "outputs": [
    {
     "name": "stdout",
     "output_type": "stream",
     "text": [
      "Average marks attained by batch =  72.6\n"
     ]
    }
   ],
   "source": [
    "avg_marks = sum_of_marks/num_of_students\n",
    "print(\"Average marks attained by batch = \",avg_marks)"
   ]
  },
  {
   "cell_type": "markdown",
   "id": "903ede43",
   "metadata": {},
   "source": [
    "#### Method 2: Better Way Using For Loops"
   ]
  },
  {
   "cell_type": "code",
   "execution_count": 13,
   "id": "d38d7a4f",
   "metadata": {},
   "outputs": [
    {
     "name": "stdout",
     "output_type": "stream",
     "text": [
      "Inside For loop\n",
      "Outside For loop\n",
      "Inside For loop\n",
      "Outside For loop\n",
      "Inside For loop\n",
      "Outside For loop\n",
      "Inside For loop\n",
      "Outside For loop\n",
      "Inside For loop\n",
      "Outside For loop\n",
      "Average of students: 72.6\n"
     ]
    }
   ],
   "source": [
    "total = 0\n",
    "for student_marks in marks:\n",
    "    print(\"Inside For loop\")\n",
    "    total = total+student_marks\n",
    "    print(\"Outside For loop\")\n",
    "print(\"Average of students:\",total/len(marks))"
   ]
  },
  {
   "cell_type": "markdown",
   "id": "e1bf145e",
   "metadata": {},
   "source": [
    "### Conditional Statements"
   ]
  },
  {
   "cell_type": "markdown",
   "id": "0093eaaa",
   "metadata": {},
   "source": [
    "#### Write a code to check whether a number is greater than 10 print greater than otherwise not greater than 10"
   ]
  },
  {
   "cell_type": "code",
   "execution_count": 16,
   "id": "19d4f913",
   "metadata": {},
   "outputs": [
    {
     "name": "stdout",
     "output_type": "stream",
     "text": [
      "Number is not greater than 10\n"
     ]
    }
   ],
   "source": [
    "num = 1\n",
    "if num>10:\n",
    "    print(\"Number is greater than 10\")\n",
    "    print(\"Another statement\")\n",
    "else:\n",
    "    print(\"Number is not greater than 10\")"
   ]
  },
  {
   "cell_type": "code",
   "execution_count": 20,
   "id": "6fe4e228",
   "metadata": {},
   "outputs": [
    {
     "name": "stdout",
     "output_type": "stream",
     "text": [
      "I will stay inside and browser netflix\n",
      "Its relaxing time\n"
     ]
    }
   ],
   "source": [
    "# Program to demo if else\n",
    "weather = 'rainy'\n",
    "if weather == 'Sunny':\n",
    "    print(\"I will go outside in park for a walk\")\n",
    "else:\n",
    "    print(\"I will stay inside and browser netflix\")\n",
    "    print(\"Its relaxing time\")"
   ]
  },
  {
   "cell_type": "code",
   "execution_count": null,
   "id": "c8ec4c56",
   "metadata": {},
   "outputs": [],
   "source": [
    "# program to print following message \n",
    "## if I feel energetic I will go for trip\n",
    "## otherwise I will stay at home and relax\n",
    "\n",
    "feel = 'energetic'"
   ]
  }
 ],
 "metadata": {
  "kernelspec": {
   "display_name": "Python 3 (ipykernel)",
   "language": "python",
   "name": "python3"
  },
  "language_info": {
   "codemirror_mode": {
    "name": "ipython",
    "version": 3
   },
   "file_extension": ".py",
   "mimetype": "text/x-python",
   "name": "python",
   "nbconvert_exporter": "python",
   "pygments_lexer": "ipython3",
   "version": "3.10.7"
  }
 },
 "nbformat": 4,
 "nbformat_minor": 5
}
