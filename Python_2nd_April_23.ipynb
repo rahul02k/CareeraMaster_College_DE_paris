{
 "cells": [
  {
   "cell_type": "code",
   "execution_count": 5,
   "id": "94c61e06",
   "metadata": {},
   "outputs": [
    {
     "name": "stdout",
     "output_type": "stream",
     "text": [
      "Please Reattempt test\n"
     ]
    }
   ],
   "source": [
    "total_marks = 20\n",
    "if total_marks > 40:\n",
    "    print(\"Congratulations\")\n",
    "else:\n",
    "    print(\"Please Reattempt test\")"
   ]
  },
  {
   "cell_type": "code",
   "execution_count": 16,
   "id": "5fe7709a",
   "metadata": {},
   "outputs": [
    {
     "name": "stdout",
     "output_type": "stream",
     "text": [
      "Enter your marks80\n"
     ]
    }
   ],
   "source": [
    "student_marks = input(\"Enter your marks\")"
   ]
  },
  {
   "cell_type": "code",
   "execution_count": 17,
   "id": "77cb1e5c",
   "metadata": {},
   "outputs": [
    {
     "name": "stdout",
     "output_type": "stream",
     "text": [
      "80\n"
     ]
    }
   ],
   "source": [
    "print(student_marks)"
   ]
  },
  {
   "cell_type": "code",
   "execution_count": 18,
   "id": "87335fd8",
   "metadata": {},
   "outputs": [
    {
     "data": {
      "text/plain": [
       "str"
      ]
     },
     "execution_count": 18,
     "metadata": {},
     "output_type": "execute_result"
    }
   ],
   "source": [
    "type(student_marks)"
   ]
  },
  {
   "cell_type": "code",
   "execution_count": 19,
   "id": "52c19abc",
   "metadata": {},
   "outputs": [
    {
     "ename": "TypeError",
     "evalue": "unsupported operand type(s) for /: 'str' and 'int'",
     "output_type": "error",
     "traceback": [
      "\u001b[1;31m---------------------------------------------------------------------------\u001b[0m",
      "\u001b[1;31mTypeError\u001b[0m                                 Traceback (most recent call last)",
      "Input \u001b[1;32mIn [19]\u001b[0m, in \u001b[0;36m<cell line: 1>\u001b[1;34m()\u001b[0m\n\u001b[1;32m----> 1\u001b[0m \u001b[43mstudent_marks\u001b[49m\u001b[38;5;241;43m/\u001b[39;49m\u001b[38;5;241;43m10\u001b[39;49m\n",
      "\u001b[1;31mTypeError\u001b[0m: unsupported operand type(s) for /: 'str' and 'int'"
     ]
    }
   ],
   "source": [
    "student_marks/10"
   ]
  },
  {
   "cell_type": "code",
   "execution_count": 20,
   "id": "868bd6a9",
   "metadata": {},
   "outputs": [
    {
     "name": "stdout",
     "output_type": "stream",
     "text": [
      "<class 'int'>\n"
     ]
    }
   ],
   "source": [
    "student_marks = int(student_marks)\n",
    "print(type(student_marks))"
   ]
  },
  {
   "cell_type": "code",
   "execution_count": 21,
   "id": "5e38c3d4",
   "metadata": {},
   "outputs": [
    {
     "data": {
      "text/plain": [
       "8.0"
      ]
     },
     "execution_count": 21,
     "metadata": {},
     "output_type": "execute_result"
    }
   ],
   "source": [
    "student_marks/10"
   ]
  },
  {
   "cell_type": "code",
   "execution_count": null,
   "id": "3885fac3",
   "metadata": {},
   "outputs": [],
   "source": [
    "Write a program to accept percentage from the user and display the grade according to the following criteria:\n",
    "Marks                                    Grade\n",
    "> 90                                         A\n",
    "> 80 and <= 90                               B\n",
    ">= 60 and <= 80                              C\n",
    "below 60                                     D\n"
   ]
  },
  {
   "cell_type": "code",
   "execution_count": 23,
   "id": "5d8a54e7",
   "metadata": {},
   "outputs": [
    {
     "name": "stdout",
     "output_type": "stream",
     "text": [
      "Please enter you marks55\n",
      "D\n"
     ]
    }
   ],
   "source": [
    "student_marks = input(\"Please enter you marks\")\n",
    "student_marks = int(student_marks)\n",
    "\n",
    "#conditional part\n",
    "if student_marks>90:\n",
    "    print(\"A\")\n",
    "elif student_marks>80 and student_marks<=90:\n",
    "    print(\"B\")\n",
    "elif student_marks>=60 and student_marks<=80:\n",
    "    print(\"C\")\n",
    "else:\n",
    "    print(\"D\")"
   ]
  },
  {
   "cell_type": "code",
   "execution_count": 24,
   "id": "1b2c775f",
   "metadata": {},
   "outputs": [
    {
     "name": "stdout",
     "output_type": "stream",
     "text": [
      "Please enter your name Rohit\n"
     ]
    }
   ],
   "source": [
    "name = input(\"Please enter your name \")"
   ]
  },
  {
   "cell_type": "code",
   "execution_count": 25,
   "id": "0a9d1064",
   "metadata": {},
   "outputs": [
    {
     "ename": "TypeError",
     "evalue": "'<' not supported between instances of 'str' and 'int'",
     "output_type": "error",
     "traceback": [
      "\u001b[1;31m---------------------------------------------------------------------------\u001b[0m",
      "\u001b[1;31mTypeError\u001b[0m                                 Traceback (most recent call last)",
      "Input \u001b[1;32mIn [25]\u001b[0m, in \u001b[0;36m<cell line: 1>\u001b[1;34m()\u001b[0m\n\u001b[1;32m----> 1\u001b[0m \u001b[38;5;124;43m\"\u001b[39;49m\u001b[38;5;124;43m60\u001b[39;49m\u001b[38;5;124;43m\"\u001b[39;49m\u001b[38;5;241;43m<\u001b[39;49m\u001b[38;5;241;43m80\u001b[39;49m\n",
      "\u001b[1;31mTypeError\u001b[0m: '<' not supported between instances of 'str' and 'int'"
     ]
    }
   ],
   "source": [
    "\"60\"<80"
   ]
  },
  {
   "cell_type": "code",
   "execution_count": 35,
   "id": "0f3bf56c",
   "metadata": {},
   "outputs": [
    {
     "name": "stdout",
     "output_type": "stream",
     "text": [
      "Water temperature is 90\n",
      "Water is not boiling\n"
     ]
    }
   ],
   "source": [
    "temp = int(input(\"Water temperature is \"))\n",
    "if temp >= 100:\n",
    "    print(\"Water is boiling\")\n",
    "else:\n",
    "    print(\"Water is not boiling\")"
   ]
  },
  {
   "cell_type": "code",
   "execution_count": 39,
   "id": "e8936de5",
   "metadata": {},
   "outputs": [
    {
     "name": "stdout",
     "output_type": "stream",
     "text": [
      "*******_#\n"
     ]
    }
   ],
   "source": [
    "print(\"*******\",end=\"_\")\n",
    "print(\"#\")"
   ]
  },
  {
   "cell_type": "code",
   "execution_count": 52,
   "id": "0f92afd7",
   "metadata": {},
   "outputs": [
    {
     "name": "stdout",
     "output_type": "stream",
     "text": [
      "*\n",
      "**\n",
      "***\n",
      "****\n",
      "*****\n"
     ]
    }
   ],
   "source": [
    "for i in range(5):\n",
    "    print( (i+1)*\"*\"  )"
   ]
  },
  {
   "cell_type": "code",
   "execution_count": 46,
   "id": "393b6e07",
   "metadata": {},
   "outputs": [
    {
     "data": {
      "text/plain": [
       "[0, 2, 4, 6, 8]"
      ]
     },
     "execution_count": 46,
     "metadata": {},
     "output_type": "execute_result"
    }
   ],
   "source": [
    "list(range(0,10,2))"
   ]
  },
  {
   "cell_type": "code",
   "execution_count": 48,
   "id": "1f1b860b",
   "metadata": {},
   "outputs": [
    {
     "name": "stdout",
     "output_type": "stream",
     "text": [
      "**********\n"
     ]
    }
   ],
   "source": [
    "print(\"*\"*10)"
   ]
  },
  {
   "cell_type": "code",
   "execution_count": 51,
   "id": "206e1436",
   "metadata": {},
   "outputs": [
    {
     "data": {
      "text/plain": [
       "[0, 1, 2, 3, 4]"
      ]
     },
     "execution_count": 51,
     "metadata": {},
     "output_type": "execute_result"
    }
   ],
   "source": [
    "list(range(5))"
   ]
  },
  {
   "cell_type": "code",
   "execution_count": 53,
   "id": "321fed99",
   "metadata": {},
   "outputs": [
    {
     "ename": "TypeError",
     "evalue": "unsupported operand type(s) for -: 'int' and 'str'",
     "output_type": "error",
     "traceback": [
      "\u001b[1;31m---------------------------------------------------------------------------\u001b[0m",
      "\u001b[1;31mTypeError\u001b[0m                                 Traceback (most recent call last)",
      "Input \u001b[1;32mIn [53]\u001b[0m, in \u001b[0;36m<cell line: 1>\u001b[1;34m()\u001b[0m\n\u001b[0;32m      1\u001b[0m \u001b[38;5;28;01mfor\u001b[39;00m i \u001b[38;5;129;01min\u001b[39;00m \u001b[38;5;28mrange\u001b[39m(\u001b[38;5;241m5\u001b[39m):\n\u001b[1;32m----> 2\u001b[0m     \u001b[38;5;28mprint\u001b[39m(\u001b[38;5;241;43m5\u001b[39;49m\u001b[38;5;241;43m-\u001b[39;49m\u001b[43mi\u001b[49m\u001b[38;5;241;43m*\u001b[39;49m\u001b[38;5;124;43m\"\u001b[39;49m\u001b[38;5;124;43m*\u001b[39;49m\u001b[38;5;124;43m\"\u001b[39;49m)\n",
      "\u001b[1;31mTypeError\u001b[0m: unsupported operand type(s) for -: 'int' and 'str'"
     ]
    }
   ],
   "source": [
    "for i in range(5):\n",
    "0    print((5-i)*\"*\")"
   ]
  },
  {
   "cell_type": "code",
   "execution_count": 64,
   "id": "011feab3",
   "metadata": {},
   "outputs": [
    {
     "name": "stdout",
     "output_type": "stream",
     "text": [
      "*        *\n",
      "**      **\n",
      "***    ***\n",
      "****  ****\n",
      "**********\n"
     ]
    }
   ],
   "source": [
    "for i in range(5):\n",
    "    print( (i+1)*\"*\" + (10-2*(i+1))*\" \" + (i+1)*\"*\"  )"
   ]
  },
  {
   "cell_type": "code",
   "execution_count": 60,
   "id": "1b4204b4",
   "metadata": {},
   "outputs": [],
   "source": [
    "i=1\n",
    "sample =  "
   ]
  },
  {
   "cell_type": "code",
   "execution_count": 61,
   "id": "7e86ac01",
   "metadata": {},
   "outputs": [
    {
     "data": {
      "text/plain": [
       "'**      **'"
      ]
     },
     "execution_count": 61,
     "metadata": {},
     "output_type": "execute_result"
    }
   ],
   "source": [
    "sample"
   ]
  },
  {
   "cell_type": "code",
   "execution_count": 65,
   "id": "f51c7a56",
   "metadata": {},
   "outputs": [
    {
     "name": "stdout",
     "output_type": "stream",
     "text": [
      "Water temperature is 40\n",
      "Water is not boiling\n"
     ]
    }
   ],
   "source": [
    "temp = int(input(\"Water temperature is \"))\n",
    "if temp >= 100:\n",
    "    print(\"Water is boiling\")\n",
    "else:\n",
    "    print(\"Water is not boiling\")"
   ]
  },
  {
   "cell_type": "code",
   "execution_count": null,
   "id": "f81f07d0",
   "metadata": {},
   "outputs": [],
   "source": []
  }
 ],
 "metadata": {
  "kernelspec": {
   "display_name": "Python 3 (ipykernel)",
   "language": "python",
   "name": "python3"
  },
  "language_info": {
   "codemirror_mode": {
    "name": "ipython",
    "version": 3
   },
   "file_extension": ".py",
   "mimetype": "text/x-python",
   "name": "python",
   "nbconvert_exporter": "python",
   "pygments_lexer": "ipython3",
   "version": "3.10.7"
  }
 },
 "nbformat": 4,
 "nbformat_minor": 5
}
